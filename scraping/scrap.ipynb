{
 "cells": [
  {
   "cell_type": "code",
   "execution_count": 45,
   "metadata": {},
   "outputs": [],
   "source": [
    "import requests\n",
    "from bs4 import BeautifulSoup\n",
    "from tqdm import tqdm"
   ]
  },
  {
   "cell_type": "code",
   "execution_count": 143,
   "metadata": {},
   "outputs": [],
   "source": [
    "with open('papers_urls.txt', 'r') as file:\n",
    "    urls = file.readlines()"
   ]
  },
  {
   "cell_type": "code",
   "execution_count": 151,
   "metadata": {},
   "outputs": [],
   "source": [
    "url_absract_tasks_dict = {}"
   ]
  },
  {
   "cell_type": "code",
   "execution_count": 153,
   "metadata": {},
   "outputs": [
    {
     "name": "stderr",
     "output_type": "stream",
     "text": [
      "  0%|          | 1/277 [00:01<08:07,  1.77s/it]"
     ]
    },
    {
     "name": "stdout",
     "output_type": "stream",
     "text": [
      "list index out of range\n",
      "https://paperswithcode.com/paper/02-dualities-and-the-4-simplex\n",
      "\n"
     ]
    },
    {
     "name": "stderr",
     "output_type": "stream",
     "text": [
      "  8%|▊         | 23/277 [00:49<24:05,  5.69s/it]"
     ]
    },
    {
     "name": "stdout",
     "output_type": "stream",
     "text": [
      "HTTPSConnectionPool(host='paperswithcode.com', port=443): Max retries exceeded with url: /paper/cvt-introducing-convolutions-to-vision%0A (Caused by NewConnectionError('<urllib3.connection.HTTPSConnection object at 0x7f9cf70f9d60>: Failed to establish a new connection: [Errno -3] Temporary failure in name resolution'))\n",
      "https://paperswithcode.com/paper/cvt-introducing-convolutions-to-vision\n",
      "\n"
     ]
    },
    {
     "name": "stderr",
     "output_type": "stream",
     "text": [
      " 11%|█         | 30/277 [01:30<22:28,  5.46s/it]"
     ]
    },
    {
     "name": "stdout",
     "output_type": "stream",
     "text": [
      "HTTPSConnectionPool(host='paperswithcode.com', port=443): Max retries exceeded with url: /paper/dual-path-networks%0A (Caused by NewConnectionError('<urllib3.connection.HTTPSConnection object at 0x7f9cfd0ee2e0>: Failed to establish a new connection: [Errno -3] Temporary failure in name resolution'))\n",
      "https://paperswithcode.com/paper/dual-path-networks\n",
      "\n"
     ]
    },
    {
     "name": "stderr",
     "output_type": "stream",
     "text": [
      " 11%|█         | 31/277 [01:40<27:58,  6.82s/it]"
     ]
    },
    {
     "name": "stdout",
     "output_type": "stream",
     "text": [
      "HTTPSConnectionPool(host='paperswithcode.com', port=443): Max retries exceeded with url: /paper/dynamic-routing-between-capsules%0A (Caused by NewConnectionError('<urllib3.connection.HTTPSConnection object at 0x7f9cfd0ee040>: Failed to establish a new connection: [Errno -3] Temporary failure in name resolution'))\n",
      "https://paperswithcode.com/paper/dynamic-routing-between-capsules\n",
      "\n"
     ]
    },
    {
     "name": "stderr",
     "output_type": "stream",
     "text": [
      " 46%|████▌     | 127/277 [04:23<03:50,  1.53s/it]"
     ]
    },
    {
     "name": "stdout",
     "output_type": "stream",
     "text": [
      "Invalid URL '': No scheme supplied. Perhaps you meant http://?\n",
      "\n",
      "\n"
     ]
    },
    {
     "name": "stderr",
     "output_type": "stream",
     "text": [
      " 56%|█████▋    | 156/277 [05:13<06:12,  3.08s/it]"
     ]
    },
    {
     "name": "stdout",
     "output_type": "stream",
     "text": [
      "list index out of range\n",
      "https://paperswithcode.com/paper/fornax-3d-project-automated-detection-of\n",
      "\n"
     ]
    },
    {
     "name": "stderr",
     "output_type": "stream",
     "text": [
      " 83%|████████▎ | 229/277 [07:16<01:48,  2.26s/it]"
     ]
    },
    {
     "name": "stdout",
     "output_type": "stream",
     "text": [
      "Invalid URL '': No scheme supplied. Perhaps you meant http://?\n",
      "\n",
      "\n"
     ]
    },
    {
     "name": "stderr",
     "output_type": "stream",
     "text": [
      " 94%|█████████▍| 261/277 [08:08<00:16,  1.06s/it]"
     ]
    },
    {
     "name": "stdout",
     "output_type": "stream",
     "text": [
      "Invalid URL '': No scheme supplied. Perhaps you meant http://?\n",
      "\n",
      "\n"
     ]
    },
    {
     "name": "stderr",
     "output_type": "stream",
     "text": [
      "100%|██████████| 277/277 [08:28<00:00,  1.84s/it]\n"
     ]
    }
   ],
   "source": [
    "for url in tqdm(urls):  \n",
    "    if not '#code' in url:\n",
    "        try:\n",
    "            html_content = requests.get(url).content\n",
    "            soup = BeautifulSoup(html_content, 'html.parser')\n",
    "\n",
    "            abstract = soup.find_all(class_=\"paper-abstract\")[0].select('p')[0]\n",
    "            abstract = str(abstract)[3:-4].strip()\n",
    "\n",
    "            tasks = set()\n",
    "            tasks_ = soup.find_all(class_='paper-tasks')\n",
    "            for i in range(len(tasks_)):\n",
    "                task = tasks_[i].select('span')[0].select('span')[0].text.strip().lower()\n",
    "                task = task.replace('-', ' ')\n",
    "                tasks.add(task)\n",
    "\n",
    "            url_absract_tasks_dict[url] = [abstract, list(tasks)]\n",
    "        except Exception as e:\n",
    "            print(url)"
   ]
  },
  {
   "cell_type": "code",
   "execution_count": 165,
   "metadata": {},
   "outputs": [],
   "source": [
    "import json\n",
    "with open('paper_abstract_task.json', 'a') as fp:\n",
    "    json.dump(url_absract_tasks_dict, fp)"
   ]
  }
 ],
 "metadata": {
  "interpreter": {
   "hash": "916dbcbb3f70747c44a77c7bcd40155683ae19c65e1c03b4aa3499c5328201f1"
  },
  "kernelspec": {
   "display_name": "Python 3.8.10 64-bit",
   "language": "python",
   "name": "python3"
  },
  "language_info": {
   "codemirror_mode": {
    "name": "ipython",
    "version": 3
   },
   "file_extension": ".py",
   "mimetype": "text/x-python",
   "name": "python",
   "nbconvert_exporter": "python",
   "pygments_lexer": "ipython3",
   "version": "3.8.10"
  },
  "orig_nbformat": 4
 },
 "nbformat": 4,
 "nbformat_minor": 2
}
